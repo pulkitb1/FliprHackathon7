{
 "cells": [
  {
   "cell_type": "code",
   "execution_count": 567,
   "metadata": {},
   "outputs": [
    {
     "data": {
      "text/markdown": [
       "**Pulkit Batra's creation for Flipr Hackathon 2020**"
      ],
      "text/plain": [
       "<IPython.core.display.Markdown object>"
      ]
     },
     "metadata": {},
     "output_type": "display_data"
    }
   ],
   "source": [
    "from IPython.display import Markdown, display\n",
    "def printmd(string):\n",
    "    display(Markdown(string))\n",
    "printmd('**Pulkit Batra\\'s creation for Flipr Hackathon 2020**')"
   ]
  },
  {
   "cell_type": "code",
   "execution_count": 568,
   "metadata": {},
   "outputs": [
    {
     "data": {
      "text/markdown": [
       "**Training Data Set**"
      ],
      "text/plain": [
       "<IPython.core.display.Markdown object>"
      ]
     },
     "metadata": {},
     "output_type": "display_data"
    }
   ],
   "source": [
    "from IPython.display import Markdown, display\n",
    "def printmd(string):\n",
    "    display(Markdown(string))\n",
    "printmd('**Training Data Set**')"
   ]
  },
  {
   "cell_type": "code",
   "execution_count": 569,
   "metadata": {},
   "outputs": [
    {
     "data": {
      "text/html": [
       "<div>\n",
       "<style scoped>\n",
       "    .dataframe tbody tr th:only-of-type {\n",
       "        vertical-align: middle;\n",
       "    }\n",
       "\n",
       "    .dataframe tbody tr th {\n",
       "        vertical-align: top;\n",
       "    }\n",
       "\n",
       "    .dataframe thead th {\n",
       "        text-align: right;\n",
       "    }\n",
       "</style>\n",
       "<table border=\"1\" class=\"dataframe\">\n",
       "  <thead>\n",
       "    <tr style=\"text-align: right;\">\n",
       "      <th></th>\n",
       "      <th>PLAYER</th>\n",
       "      <th>Mat</th>\n",
       "      <th>Inns</th>\n",
       "      <th>NO</th>\n",
       "      <th>2018_Runs</th>\n",
       "      <th>HS</th>\n",
       "      <th>Avg</th>\n",
       "      <th>BF</th>\n",
       "      <th>SR</th>\n",
       "      <th>100</th>\n",
       "      <th>50</th>\n",
       "      <th>4s</th>\n",
       "      <th>6s</th>\n",
       "      <th>2019_Runs</th>\n",
       "    </tr>\n",
       "  </thead>\n",
       "  <tbody>\n",
       "    <tr>\n",
       "      <td>0</td>\n",
       "      <td>Aaron Finch</td>\n",
       "      <td>10</td>\n",
       "      <td>9</td>\n",
       "      <td>1</td>\n",
       "      <td>134</td>\n",
       "      <td>46</td>\n",
       "      <td>16.75</td>\n",
       "      <td>100</td>\n",
       "      <td>134.00</td>\n",
       "      <td>0</td>\n",
       "      <td>0</td>\n",
       "      <td>6</td>\n",
       "      <td>8</td>\n",
       "      <td>160</td>\n",
       "    </tr>\n",
       "    <tr>\n",
       "      <td>1</td>\n",
       "      <td>AB de Villiers</td>\n",
       "      <td>12</td>\n",
       "      <td>11</td>\n",
       "      <td>2</td>\n",
       "      <td>480</td>\n",
       "      <td>90*</td>\n",
       "      <td>53.33</td>\n",
       "      <td>275</td>\n",
       "      <td>174.54</td>\n",
       "      <td>0</td>\n",
       "      <td>6</td>\n",
       "      <td>39</td>\n",
       "      <td>30</td>\n",
       "      <td>424</td>\n",
       "    </tr>\n",
       "    <tr>\n",
       "      <td>2</td>\n",
       "      <td>Abhishek Sharma</td>\n",
       "      <td>3</td>\n",
       "      <td>3</td>\n",
       "      <td>2</td>\n",
       "      <td>63</td>\n",
       "      <td>46*</td>\n",
       "      <td>63</td>\n",
       "      <td>33</td>\n",
       "      <td>190.90</td>\n",
       "      <td>0</td>\n",
       "      <td>0</td>\n",
       "      <td>3</td>\n",
       "      <td>5</td>\n",
       "      <td>63</td>\n",
       "    </tr>\n",
       "    <tr>\n",
       "      <td>3</td>\n",
       "      <td>Ajinkya Rahane</td>\n",
       "      <td>15</td>\n",
       "      <td>14</td>\n",
       "      <td>1</td>\n",
       "      <td>370</td>\n",
       "      <td>65*</td>\n",
       "      <td>28.46</td>\n",
       "      <td>313</td>\n",
       "      <td>118.21</td>\n",
       "      <td>0</td>\n",
       "      <td>1</td>\n",
       "      <td>39</td>\n",
       "      <td>5</td>\n",
       "      <td>396</td>\n",
       "    </tr>\n",
       "    <tr>\n",
       "      <td>4</td>\n",
       "      <td>Alex Hales</td>\n",
       "      <td>6</td>\n",
       "      <td>6</td>\n",
       "      <td>0</td>\n",
       "      <td>148</td>\n",
       "      <td>45</td>\n",
       "      <td>24.66</td>\n",
       "      <td>118</td>\n",
       "      <td>125.42</td>\n",
       "      <td>0</td>\n",
       "      <td>0</td>\n",
       "      <td>13</td>\n",
       "      <td>6</td>\n",
       "      <td>165</td>\n",
       "    </tr>\n",
       "    <tr>\n",
       "      <td>...</td>\n",
       "      <td>...</td>\n",
       "      <td>...</td>\n",
       "      <td>...</td>\n",
       "      <td>...</td>\n",
       "      <td>...</td>\n",
       "      <td>...</td>\n",
       "      <td>...</td>\n",
       "      <td>...</td>\n",
       "      <td>...</td>\n",
       "      <td>...</td>\n",
       "      <td>...</td>\n",
       "      <td>...</td>\n",
       "      <td>...</td>\n",
       "      <td>...</td>\n",
       "    </tr>\n",
       "    <tr>\n",
       "      <td>95</td>\n",
       "      <td>Virat Kohli</td>\n",
       "      <td>14</td>\n",
       "      <td>14</td>\n",
       "      <td>3</td>\n",
       "      <td>530</td>\n",
       "      <td>92*</td>\n",
       "      <td>48.18</td>\n",
       "      <td>381</td>\n",
       "      <td>139.10</td>\n",
       "      <td>0</td>\n",
       "      <td>4</td>\n",
       "      <td>52</td>\n",
       "      <td>18</td>\n",
       "      <td>488</td>\n",
       "    </tr>\n",
       "    <tr>\n",
       "      <td>96</td>\n",
       "      <td>Washington Sundar</td>\n",
       "      <td>7</td>\n",
       "      <td>6</td>\n",
       "      <td>3</td>\n",
       "      <td>65</td>\n",
       "      <td>35</td>\n",
       "      <td>21.66</td>\n",
       "      <td>38</td>\n",
       "      <td>171.05</td>\n",
       "      <td>0</td>\n",
       "      <td>0</td>\n",
       "      <td>5</td>\n",
       "      <td>4</td>\n",
       "      <td>64</td>\n",
       "    </tr>\n",
       "    <tr>\n",
       "      <td>97</td>\n",
       "      <td>Wriddhiman Saha</td>\n",
       "      <td>11</td>\n",
       "      <td>10</td>\n",
       "      <td>2</td>\n",
       "      <td>122</td>\n",
       "      <td>35</td>\n",
       "      <td>15.25</td>\n",
       "      <td>102</td>\n",
       "      <td>119.60</td>\n",
       "      <td>0</td>\n",
       "      <td>0</td>\n",
       "      <td>17</td>\n",
       "      <td>1</td>\n",
       "      <td>115</td>\n",
       "    </tr>\n",
       "    <tr>\n",
       "      <td>98</td>\n",
       "      <td>Yusuf Pathan</td>\n",
       "      <td>15</td>\n",
       "      <td>13</td>\n",
       "      <td>4</td>\n",
       "      <td>260</td>\n",
       "      <td>45*</td>\n",
       "      <td>28.88</td>\n",
       "      <td>200</td>\n",
       "      <td>130.00</td>\n",
       "      <td>0</td>\n",
       "      <td>0</td>\n",
       "      <td>22</td>\n",
       "      <td>11</td>\n",
       "      <td>296</td>\n",
       "    </tr>\n",
       "    <tr>\n",
       "      <td>99</td>\n",
       "      <td>Yuvraj Singh</td>\n",
       "      <td>8</td>\n",
       "      <td>6</td>\n",
       "      <td>0</td>\n",
       "      <td>65</td>\n",
       "      <td>20</td>\n",
       "      <td>10.83</td>\n",
       "      <td>73</td>\n",
       "      <td>89.04</td>\n",
       "      <td>0</td>\n",
       "      <td>0</td>\n",
       "      <td>6</td>\n",
       "      <td>2</td>\n",
       "      <td>67</td>\n",
       "    </tr>\n",
       "  </tbody>\n",
       "</table>\n",
       "<p>100 rows × 14 columns</p>\n",
       "</div>"
      ],
      "text/plain": [
       "               PLAYER  Mat  Inns  NO  2018_Runs   HS    Avg   BF      SR  100  \\\n",
       "0         Aaron Finch   10     9   1        134   46  16.75  100  134.00    0   \n",
       "1      AB de Villiers   12    11   2        480  90*  53.33  275  174.54    0   \n",
       "2     Abhishek Sharma    3     3   2         63  46*     63   33  190.90    0   \n",
       "3      Ajinkya Rahane   15    14   1        370  65*  28.46  313  118.21    0   \n",
       "4          Alex Hales    6     6   0        148   45  24.66  118  125.42    0   \n",
       "..                ...  ...   ...  ..        ...  ...    ...  ...     ...  ...   \n",
       "95        Virat Kohli   14    14   3        530  92*  48.18  381  139.10    0   \n",
       "96  Washington Sundar    7     6   3         65   35  21.66   38  171.05    0   \n",
       "97    Wriddhiman Saha   11    10   2        122   35  15.25  102  119.60    0   \n",
       "98       Yusuf Pathan   15    13   4        260  45*  28.88  200  130.00    0   \n",
       "99       Yuvraj Singh    8     6   0         65   20  10.83   73   89.04    0   \n",
       "\n",
       "    50  4s  6s  2019_Runs  \n",
       "0    0   6   8        160  \n",
       "1    6  39  30        424  \n",
       "2    0   3   5         63  \n",
       "3    1  39   5        396  \n",
       "4    0  13   6        165  \n",
       "..  ..  ..  ..        ...  \n",
       "95   4  52  18        488  \n",
       "96   0   5   4         64  \n",
       "97   0  17   1        115  \n",
       "98   0  22  11        296  \n",
       "99   0   6   2         67  \n",
       "\n",
       "[100 rows x 14 columns]"
      ]
     },
     "execution_count": 569,
     "metadata": {},
     "output_type": "execute_result"
    }
   ],
   "source": [
    "import pandas as pd\n",
    "import numpy as np\n",
    "import matplotlib.pyplot as plt\n",
    "import seaborn as sns\n",
    "\n",
    "df = pd.read_excel(r'C:\\Users\\Pulkit-PC\\Desktop\\FliprHackathon\\traindata.xlsx')  #importing the csv file from the repective directory\n",
    "df"
   ]
  },
  {
   "cell_type": "code",
   "execution_count": 570,
   "metadata": {},
   "outputs": [
    {
     "name": "stdout",
     "output_type": "stream",
     "text": [
      "['PLAYER', 'Mat', 'Inns', 'NO', '2018_Runs', 'HS', 'Avg', 'BF', 'SR', 100, 50, '4s', '6s', '2019_Runs']\n"
     ]
    }
   ],
   "source": [
    "cols = df.columns.tolist()\n",
    "print(cols)"
   ]
  },
  {
   "cell_type": "code",
   "execution_count": 573,
   "metadata": {},
   "outputs": [],
   "source": [
    "temp=cols[12]\n",
    "cols[12]=cols[4]\n",
    "cols[4]=temp\n",
    "df = df[cols]\n",
    "temp=df.copy()  # Will be working on temp now.\n"
   ]
  },
  {
   "cell_type": "code",
   "execution_count": 574,
   "metadata": {},
   "outputs": [
    {
     "data": {
      "text/markdown": [
       "**Cleaning the data set and setting appropriate data types**"
      ],
      "text/plain": [
       "<IPython.core.display.Markdown object>"
      ]
     },
     "metadata": {},
     "output_type": "display_data"
    }
   ],
   "source": [
    "from IPython.display import Markdown, display\n",
    "def printmd(string):\n",
    "    display(Markdown(string))\n",
    "printmd('**Cleaning the data set and setting appropriate data types**')"
   ]
  },
  {
   "cell_type": "code",
   "execution_count": 575,
   "metadata": {},
   "outputs": [
    {
     "data": {
      "text/plain": [
       "PLAYER        object\n",
       "Mat            int64\n",
       "Inns           int64\n",
       "NO             int64\n",
       "6s             int64\n",
       "HS            object\n",
       "Avg           object\n",
       "BF             int64\n",
       "SR           float64\n",
       "100            int64\n",
       "50             int64\n",
       "4s             int64\n",
       "2018_Runs      int64\n",
       "2019_Runs      int64\n",
       "dtype: object"
      ]
     },
     "execution_count": 575,
     "metadata": {},
     "output_type": "execute_result"
    }
   ],
   "source": [
    "temp.dtypes"
   ]
  },
  {
   "cell_type": "code",
   "execution_count": 576,
   "metadata": {},
   "outputs": [
    {
     "data": {
      "text/markdown": [
       "**Setting data type of PLAYER to string**"
      ],
      "text/plain": [
       "<IPython.core.display.Markdown object>"
      ]
     },
     "metadata": {},
     "output_type": "display_data"
    }
   ],
   "source": [
    "from IPython.display import Markdown, display\n",
    "def printmd(string):\n",
    "    display(Markdown(string))\n",
    "printmd('**Setting data type of PLAYER to string**')"
   ]
  },
  {
   "cell_type": "code",
   "execution_count": 577,
   "metadata": {},
   "outputs": [],
   "source": [
    "temp['PLAYER']=temp['PLAYER'].astype('str')\n"
   ]
  },
  {
   "cell_type": "code",
   "execution_count": 578,
   "metadata": {},
   "outputs": [
    {
     "data": {
      "text/markdown": [
       "**Setting the data type of HS to int**"
      ],
      "text/plain": [
       "<IPython.core.display.Markdown object>"
      ]
     },
     "metadata": {},
     "output_type": "display_data"
    }
   ],
   "source": [
    "def printmd(string):\n",
    "    display(Markdown(string))\n",
    "printmd('**Setting the data type of HS to int**')"
   ]
  },
  {
   "cell_type": "code",
   "execution_count": 579,
   "metadata": {},
   "outputs": [],
   "source": [
    "temp['HS']=temp['HS'].astype('str')\n",
    "temp['HS'] = temp['HS'].str.replace('*', '')\n",
    "temp['HS']=temp['HS'].astype('int')"
   ]
  },
  {
   "cell_type": "code",
   "execution_count": 580,
   "metadata": {},
   "outputs": [
    {
     "data": {
      "text/markdown": [
       "**Setting the data type of Avg to float and assigning average to players who have only remained not out throughout**"
      ],
      "text/plain": [
       "<IPython.core.display.Markdown object>"
      ]
     },
     "metadata": {},
     "output_type": "display_data"
    }
   ],
   "source": [
    "def printmd(string):\n",
    "    display(Markdown(string))\n",
    "printmd('**Setting the data type of Avg to float and assigning average to players who have only remained not out throughout**')"
   ]
  },
  {
   "cell_type": "code",
   "execution_count": 581,
   "metadata": {},
   "outputs": [],
   "source": [
    "temp['Avg']=temp['Avg'].astype('str')\n",
    "temp['Avg'] = temp['Avg'].str.replace('-', '-1')\n",
    "temp['Avg']=temp['Avg'].astype('float')"
   ]
  },
  {
   "cell_type": "code",
   "execution_count": 582,
   "metadata": {},
   "outputs": [],
   "source": [
    "index=0\n",
    "for i in temp['Avg']:\n",
    "    #print(i)\n",
    "    if i==-1.0:\n",
    "        t=temp.loc[[index]]\n",
    "        t['Avg']=float(t['HS'])\n",
    "        #print(t)\n",
    "    index=index+1"
   ]
  },
  {
   "cell_type": "code",
   "execution_count": 583,
   "metadata": {},
   "outputs": [
    {
     "data": {
      "text/markdown": [
       "**Now the data type of each column is appropriate and all the null/no values have been fixed.**"
      ],
      "text/plain": [
       "<IPython.core.display.Markdown object>"
      ]
     },
     "metadata": {},
     "output_type": "display_data"
    }
   ],
   "source": [
    "def printmd(string):\n",
    "    display(Markdown(string))\n",
    "printmd('**Now the data type of each column is appropriate and all the null/no values have been fixed.**')"
   ]
  },
  {
   "cell_type": "code",
   "execution_count": 584,
   "metadata": {},
   "outputs": [
    {
     "data": {
      "text/plain": [
       "PLAYER        object\n",
       "Mat            int64\n",
       "Inns           int64\n",
       "NO             int64\n",
       "6s             int64\n",
       "HS             int32\n",
       "Avg          float64\n",
       "BF             int64\n",
       "SR           float64\n",
       "100            int64\n",
       "50             int64\n",
       "4s             int64\n",
       "2018_Runs      int64\n",
       "2019_Runs      int64\n",
       "dtype: object"
      ]
     },
     "execution_count": 584,
     "metadata": {},
     "output_type": "execute_result"
    }
   ],
   "source": [
    "temp.dtypes"
   ]
  },
  {
   "cell_type": "code",
   "execution_count": 585,
   "metadata": {},
   "outputs": [
    {
     "data": {
      "text/markdown": [
       "**Time to create and train our model**"
      ],
      "text/plain": [
       "<IPython.core.display.Markdown object>"
      ]
     },
     "metadata": {},
     "output_type": "display_data"
    }
   ],
   "source": [
    "def printmd(string):\n",
    "    display(Markdown(string))\n",
    "printmd('**Time to create and train our model**')"
   ]
  },
  {
   "cell_type": "code",
   "execution_count": 586,
   "metadata": {},
   "outputs": [
    {
     "name": "stdout",
     "output_type": "stream",
     "text": [
      "['PLAYER', 'Mat', 'Inns', 'NO', '6s', 'HS', 'Avg', 'BF', 'SR', 100, 50, '4s', '2018_Runs', '2019_Runs']\n"
     ]
    }
   ],
   "source": [
    "print(cols)"
   ]
  },
  {
   "cell_type": "code",
   "execution_count": 587,
   "metadata": {},
   "outputs": [
    {
     "data": {
      "image/png": "[encoded data removed]",
      "text/plain": [
       "<Figure size 432x288 with 1 Axes>"
      ]
     },
     "metadata": {
      "needs_background": "light"
     },
     "output_type": "display_data"
    },
    {
     "data": {
      "image/png": "[encoded data removed]",
      "text/plain": [
       "<Figure size 432x288 with 1 Axes>"
      ]
     },
     "metadata": {
      "needs_background": "light"
     },
     "output_type": "display_data"
    },
    {
     "data": {
      "image/png": "[encoded data removed]",
      "text/plain": [
       "<Figure size 432x288 with 1 Axes>"
      ]
     },
     "metadata": {
      "needs_background": "light"
     },
     "output_type": "display_data"
    },
    {
     "data": {
      "image/png": "[encoded data removed]",
      "text/plain": [
       "<Figure size 432x288 with 1 Axes>"
      ]
     },
     "metadata": {
      "needs_background": "light"
     },
     "output_type": "display_data"
    },
    {
     "data": {
      "image/png": "[encoded data removed]",
      "text/plain": [
       "<Figure size 432x288 with 1 Axes>"
      ]
     },
     "metadata": {
      "needs_background": "light"
     },
     "output_type": "display_data"
    },
    {
     "data": {
      "image/png": "[encoded data removed]",
      "text/plain": [
       "<Figure size 432x288 with 1 Axes>"
      ]
     },
     "metadata": {
      "needs_background": "light"
     },
     "output_type": "display_data"
    },
    {
     "data": {
      "image/png": "[encoded data removed]",
      "text/plain": [
       "<Figure size 432x288 with 1 Axes>"
      ]
     },
     "metadata": {
      "needs_background": "light"
     },
     "output_type": "display_data"
    },
    {
     "data": {
      "image/png": "[encoded data removed]",
      "text/plain": [
       "<Figure size 432x288 with 1 Axes>"
      ]
     },
     "metadata": {
      "needs_background": "light"
     },
     "output_type": "display_data"
    },
    {
     "data": {
      "image/png": "[encoded data removed]",
      "text/plain": [
       "<Figure size 432x288 with 1 Axes>"
      ]
     },
     "metadata": {
      "needs_background": "light"
     },
     "output_type": "display_data"
    },
    {
     "data": {
      "image/png": "[encoded data removed]",
      "text/plain": [
       "<Figure size 432x288 with 1 Axes>"
      ]
     },
     "metadata": {
      "needs_background": "light"
     },
     "output_type": "display_data"
    },
    {
     "data": {
      "image/png": "[encoded data removed]",
      "text/plain": [
       "<Figure size 432x288 with 1 Axes>"
      ]
     },
     "metadata": {
      "needs_background": "light"
     },
     "output_type": "display_data"
    },
    {
     "data": {
      "image/png": "[encoded data removed]",
      "text/plain": [
       "<Figure size 432x288 with 1 Axes>"
      ]
     },
     "metadata": {
      "needs_background": "light"
     },
     "output_type": "display_data"
    }
   ],
   "source": [
    "from pandas import DataFrame\n",
    "import matplotlib.pyplot as plt\n",
    "\n",
    "for i in temp.columns:    \n",
    "    if (i!='PLAYER') and (i!='2019_Runs'):\n",
    "        plt.scatter(temp['2019_Runs'], temp[i], color='red')\n",
    "        ti='2019_Runs Vs ' + str(i)\n",
    "        plt.title(ti, fontsize=14)\n",
    "        plt.xlabel('2019_Runs', fontsize=14)\n",
    "        plt.ylabel(i, fontsize=14)\n",
    "        plt.grid(True)\n",
    "        plt.show()\n",
    " "
   ]
  },
  {
   "cell_type": "code",
   "execution_count": 588,
   "metadata": {},
   "outputs": [
    {
     "data": {
      "text/markdown": [
       "**After analyzing the graphs for 2018_Runs vs other parameters, the following conclusions occur -**"
      ],
      "text/plain": [
       "<IPython.core.display.Markdown object>"
      ]
     },
     "metadata": {},
     "output_type": "display_data"
    },
    {
     "data": {
      "text/markdown": [
       "**1. Mat(Matches): There is no definite relation between matches played and runs as bowlers might also play many matches but score less runs.**"
      ],
      "text/plain": [
       "<IPython.core.display.Markdown object>"
      ]
     },
     "metadata": {},
     "output_type": "display_data"
    },
    {
     "data": {
      "text/markdown": [
       "**2. Inns(Innings): Graph is indicating that more innings is leading to more runs.**"
      ],
      "text/plain": [
       "<IPython.core.display.Markdown object>"
      ]
     },
     "metadata": {},
     "output_type": "display_data"
    },
    {
     "data": {
      "text/markdown": [
       "**3. NO(Not Outs): There is no definite relation between number of not outs and runs as remaining not out doesnt necessarily mean that runs have been scored.**"
      ],
      "text/plain": [
       "<IPython.core.display.Markdown object>"
      ]
     },
     "metadata": {},
     "output_type": "display_data"
    },
    {
     "data": {
      "text/markdown": [
       "**4. 6s(Sixes): Graph is indicating that more number of sixes is leading to more runs.**"
      ],
      "text/plain": [
       "<IPython.core.display.Markdown object>"
      ]
     },
     "metadata": {},
     "output_type": "display_data"
    },
    {
     "data": {
      "text/markdown": [
       "**5. HS(Highest Score): Graph is indicating that players who have scored more runs tend to have a greater highest score.**"
      ],
      "text/plain": [
       "<IPython.core.display.Markdown object>"
      ]
     },
     "metadata": {},
     "output_type": "display_data"
    },
    {
     "data": {
      "text/markdown": [
       "**5. Avg(Average): Graph is indicating that players who have scored more runs tend to have a greater average.**"
      ],
      "text/plain": [
       "<IPython.core.display.Markdown object>"
      ]
     },
     "metadata": {},
     "output_type": "display_data"
    },
    {
     "data": {
      "text/markdown": [
       "**6. BF(Balls Faced): The number of balls faced is our first breakthrough here. It is giving the most clear indication that players who have scored more runs have faced more balls.**"
      ],
      "text/plain": [
       "<IPython.core.display.Markdown object>"
      ]
     },
     "metadata": {},
     "output_type": "display_data"
    },
    {
     "data": {
      "text/markdown": [
       "**7. SR(Strike Rate): There is no definite relation between strike rate and runs.**"
      ],
      "text/plain": [
       "<IPython.core.display.Markdown object>"
      ]
     },
     "metadata": {},
     "output_type": "display_data"
    },
    {
     "data": {
      "text/markdown": [
       "**8. 100(100s scored): There is no definite relation between 100s scored and runs.**"
      ],
      "text/plain": [
       "<IPython.core.display.Markdown object>"
      ]
     },
     "metadata": {},
     "output_type": "display_data"
    },
    {
     "data": {
      "text/markdown": [
       "**9. 50(50s scored): Not a very definite relation.**"
      ],
      "text/plain": [
       "<IPython.core.display.Markdown object>"
      ]
     },
     "metadata": {},
     "output_type": "display_data"
    },
    {
     "data": {
      "text/markdown": [
       "**10. 4s(Sixes): Graph is indicating that more number of fours is leading to more runs.**"
      ],
      "text/plain": [
       "<IPython.core.display.Markdown object>"
      ]
     },
     "metadata": {},
     "output_type": "display_data"
    },
    {
     "data": {
      "text/markdown": [
       "**11. 2018_Runs(Runs in 2018): The number of runs in 2018 is our second breakthrough here. It is giving the most clear indication that players who have scored more runs in 2019 have scored more runs in 2018.**"
      ],
      "text/plain": [
       "<IPython.core.display.Markdown object>"
      ]
     },
     "metadata": {},
     "output_type": "display_data"
    }
   ],
   "source": [
    "def printmd(string):\n",
    "    display(Markdown(string))\n",
    "printmd('**After analyzing the graphs for 2018_Runs vs other parameters, the following conclusions occur -**')\n",
    "printmd('**1. Mat(Matches): There is no definite relation between matches played and runs as bowlers might also play many matches but score less runs.**')\n",
    "printmd('**2. Inns(Innings): Graph is indicating that more innings is leading to more runs.**')\n",
    "printmd('**3. NO(Not Outs): There is no definite relation between number of not outs and runs as remaining not out doesnt necessarily mean that runs have been scored.**')\n",
    "printmd('**4. 6s(Sixes): Graph is indicating that more number of sixes is leading to more runs.**')\n",
    "printmd('**5. HS(Highest Score): Graph is indicating that players who have scored more runs tend to have a greater highest score.**')\n",
    "printmd('**5. Avg(Average): Graph is indicating that players who have scored more runs tend to have a greater average.**')\n",
    "printmd('**6. BF(Balls Faced): The number of balls faced is our first breakthrough here. It is giving the most clear indication that players who have scored more runs have faced more balls.**')\n",
    "printmd('**7. SR(Strike Rate): There is no definite relation between strike rate and runs.**')\n",
    "printmd('**8. 100(100s scored): There is no definite relation between 100s scored and runs.**')\n",
    "printmd('**9. 50(50s scored): Not a very definite relation.**')\n",
    "printmd('**10. 4s(Sixes): Graph is indicating that more number of fours is leading to more runs.**')\n",
    "printmd('**11. 2018_Runs(Runs in 2018): The number of runs in 2018 is our second breakthrough here. It is giving the most clear indication that players who have scored more runs in 2019 have scored more runs in 2018.**')\n"
   ]
  },
  {
   "cell_type": "code",
   "execution_count": 589,
   "metadata": {},
   "outputs": [
    {
     "data": {
      "text/markdown": [
       "**Based on the conclusion, the parameters that we will consider to train our model will be :**"
      ],
      "text/plain": [
       "<IPython.core.display.Markdown object>"
      ]
     },
     "metadata": {},
     "output_type": "display_data"
    },
    {
     "data": {
      "text/markdown": [
       "**Inns, 6s, HS, Avg, BF, 4s,2018_Runs**"
      ],
      "text/plain": [
       "<IPython.core.display.Markdown object>"
      ]
     },
     "metadata": {},
     "output_type": "display_data"
    }
   ],
   "source": [
    "def printmd(string):\n",
    "    display(Markdown(string))\n",
    "printmd('**Based on the conclusion, the parameters that we will consider to train our model will be :**')\n",
    "printmd('**Inns, 6s, HS, Avg, BF, 4s,2018_Runs**')"
   ]
  },
  {
   "cell_type": "code",
   "execution_count": 590,
   "metadata": {},
   "outputs": [
    {
     "data": {
      "text/markdown": [
       "**Applying Multi Variate Linear Regression**"
      ],
      "text/plain": [
       "<IPython.core.display.Markdown object>"
      ]
     },
     "metadata": {},
     "output_type": "display_data"
    }
   ],
   "source": [
    "def printmd(string):\n",
    "    display(Markdown(string))\n",
    "printmd('**Applying Multi Variate Linear Regression**')"
   ]
  },
  {
   "cell_type": "code",
   "execution_count": 591,
   "metadata": {},
   "outputs": [
    {
     "name": "stdout",
     "output_type": "stream",
     "text": [
      "R2 score:  0.9848913675237715\n"
     ]
    }
   ],
   "source": [
    "from pandas import DataFrame\n",
    "from sklearn import linear_model\n",
    "import statsmodels.api as sm  \n",
    "from sklearn.metrics import mean_squared_error, r2_score\n",
    "import math\n",
    "\n",
    "X = temp[['2018_Runs','BF','Avg','Inns','6s','4s','HS']] # here we have 2 variables for multiple regression. If you just want to use one variable for simple linear regression, then use X = df['Interest_Rate'] for example.Alternatively, you may add additional variables within the brackets\n",
    "Y = temp['2019_Runs']\n",
    " \n",
    "# with sklearn\n",
    "regr = linear_model.LinearRegression()\n",
    "regr.fit(X, Y)\n",
    "\n",
    "#print('Intercept: \\n', regr.intercept_)\n",
    "#print('Coefficients: \\n', regr.coef_)\n",
    "\n",
    "\n",
    "for index, row in temp.iterrows():\n",
    "    Inns = row['Inns']\n",
    "    s6 = row['6s']\n",
    "    HS = row['HS']\n",
    "    Avg = row['Avg']\n",
    "    BF=row['BF']\n",
    "    s4=row['4s']  \n",
    "    Runs=row['2018_Runs']\n",
    "    p=regr.predict([[Runs,BF,Avg,Inns,s6,s4,HS]])\n",
    "    #print ('Predicted Runs:', math.floor(abs(p[0])) , ' Actual Runs : ',row['2019_Runs'])\n",
    "\n",
    "Y1=regr.predict(X)    \n",
    "rmse = mean_squared_error(Y,Y1)\n",
    "r2 = r2_score(Y, Y1)\n",
    "#print('Variance score: %.2f' % regr.score(X, Y))\n",
    "print('R2 score: ', r2)"
   ]
  },
  {
   "cell_type": "code",
   "execution_count": 592,
   "metadata": {},
   "outputs": [
    {
     "data": {
      "text/markdown": [
       "**Our training model has yielded quite good results. Now lets test it on test data.**"
      ],
      "text/plain": [
       "<IPython.core.display.Markdown object>"
      ]
     },
     "metadata": {},
     "output_type": "display_data"
    }
   ],
   "source": [
    "def printmd(string):\n",
    "    display(Markdown(string))\n",
    "printmd('**Our training model has yielded quite good results. Now lets test it on test data.**')"
   ]
  },
  {
   "cell_type": "code",
   "execution_count": 593,
   "metadata": {},
   "outputs": [
    {
     "data": {
      "text/markdown": [
       "**Testing Data Set**"
      ],
      "text/plain": [
       "<IPython.core.display.Markdown object>"
      ]
     },
     "metadata": {},
     "output_type": "display_data"
    }
   ],
   "source": [
    "from IPython.display import Markdown, display\n",
    "def printmd(string):\n",
    "    display(Markdown(string))\n",
    "printmd('**Testing Data Set**')"
   ]
  },
  {
   "cell_type": "code",
   "execution_count": 594,
   "metadata": {},
   "outputs": [
    {
     "data": {
      "text/html": [
       "<div>\n",
       "<style scoped>\n",
       "    .dataframe tbody tr th:only-of-type {\n",
       "        vertical-align: middle;\n",
       "    }\n",
       "\n",
       "    .dataframe tbody tr th {\n",
       "        vertical-align: top;\n",
       "    }\n",
       "\n",
       "    .dataframe thead th {\n",
       "        text-align: right;\n",
       "    }\n",
       "</style>\n",
       "<table border=\"1\" class=\"dataframe\">\n",
       "  <thead>\n",
       "    <tr style=\"text-align: right;\">\n",
       "      <th></th>\n",
       "      <th>PLAYER</th>\n",
       "      <th>Mat</th>\n",
       "      <th>Inns</th>\n",
       "      <th>NO</th>\n",
       "      <th>2019_Runs</th>\n",
       "      <th>HS</th>\n",
       "      <th>Avg</th>\n",
       "      <th>BF</th>\n",
       "      <th>SR</th>\n",
       "      <th>100</th>\n",
       "      <th>50</th>\n",
       "      <th>4s</th>\n",
       "      <th>6s</th>\n",
       "    </tr>\n",
       "  </thead>\n",
       "  <tbody>\n",
       "    <tr>\n",
       "      <td>0</td>\n",
       "      <td>David Warner</td>\n",
       "      <td>12</td>\n",
       "      <td>12</td>\n",
       "      <td>2</td>\n",
       "      <td>692</td>\n",
       "      <td>100*</td>\n",
       "      <td>69.2</td>\n",
       "      <td>481</td>\n",
       "      <td>143.86</td>\n",
       "      <td>1</td>\n",
       "      <td>8</td>\n",
       "      <td>57</td>\n",
       "      <td>21</td>\n",
       "    </tr>\n",
       "    <tr>\n",
       "      <td>1</td>\n",
       "      <td>KL Rahul</td>\n",
       "      <td>14</td>\n",
       "      <td>14</td>\n",
       "      <td>3</td>\n",
       "      <td>593</td>\n",
       "      <td>100*</td>\n",
       "      <td>53.9</td>\n",
       "      <td>438</td>\n",
       "      <td>135.38</td>\n",
       "      <td>1</td>\n",
       "      <td>6</td>\n",
       "      <td>49</td>\n",
       "      <td>25</td>\n",
       "    </tr>\n",
       "    <tr>\n",
       "      <td>2</td>\n",
       "      <td>Quinton de Kock</td>\n",
       "      <td>16</td>\n",
       "      <td>16</td>\n",
       "      <td>1</td>\n",
       "      <td>529</td>\n",
       "      <td>81</td>\n",
       "      <td>35.26</td>\n",
       "      <td>398</td>\n",
       "      <td>132.91</td>\n",
       "      <td>0</td>\n",
       "      <td>4</td>\n",
       "      <td>45</td>\n",
       "      <td>25</td>\n",
       "    </tr>\n",
       "    <tr>\n",
       "      <td>3</td>\n",
       "      <td>Shikhar Dhawan</td>\n",
       "      <td>16</td>\n",
       "      <td>16</td>\n",
       "      <td>1</td>\n",
       "      <td>521</td>\n",
       "      <td>97*</td>\n",
       "      <td>34.73</td>\n",
       "      <td>384</td>\n",
       "      <td>135.67</td>\n",
       "      <td>0</td>\n",
       "      <td>5</td>\n",
       "      <td>64</td>\n",
       "      <td>11</td>\n",
       "    </tr>\n",
       "    <tr>\n",
       "      <td>4</td>\n",
       "      <td>Andre Russell</td>\n",
       "      <td>14</td>\n",
       "      <td>13</td>\n",
       "      <td>4</td>\n",
       "      <td>510</td>\n",
       "      <td>80*</td>\n",
       "      <td>56.66</td>\n",
       "      <td>249</td>\n",
       "      <td>204.81</td>\n",
       "      <td>0</td>\n",
       "      <td>4</td>\n",
       "      <td>31</td>\n",
       "      <td>52</td>\n",
       "    </tr>\n",
       "    <tr>\n",
       "      <td>...</td>\n",
       "      <td>...</td>\n",
       "      <td>...</td>\n",
       "      <td>...</td>\n",
       "      <td>...</td>\n",
       "      <td>...</td>\n",
       "      <td>...</td>\n",
       "      <td>...</td>\n",
       "      <td>...</td>\n",
       "      <td>...</td>\n",
       "      <td>...</td>\n",
       "      <td>...</td>\n",
       "      <td>...</td>\n",
       "      <td>...</td>\n",
       "    </tr>\n",
       "    <tr>\n",
       "      <td>95</td>\n",
       "      <td>Carlos Brathwaite</td>\n",
       "      <td>2</td>\n",
       "      <td>2</td>\n",
       "      <td>0</td>\n",
       "      <td>11</td>\n",
       "      <td>6</td>\n",
       "      <td>5.5</td>\n",
       "      <td>10</td>\n",
       "      <td>110.00</td>\n",
       "      <td>0</td>\n",
       "      <td>0</td>\n",
       "      <td>1</td>\n",
       "      <td>0</td>\n",
       "    </tr>\n",
       "    <tr>\n",
       "      <td>96</td>\n",
       "      <td>Ishant Sharma</td>\n",
       "      <td>13</td>\n",
       "      <td>3</td>\n",
       "      <td>3</td>\n",
       "      <td>10</td>\n",
       "      <td>10*</td>\n",
       "      <td>-</td>\n",
       "      <td>3</td>\n",
       "      <td>333.33</td>\n",
       "      <td>0</td>\n",
       "      <td>0</td>\n",
       "      <td>1</td>\n",
       "      <td>1</td>\n",
       "    </tr>\n",
       "    <tr>\n",
       "      <td>97</td>\n",
       "      <td>Shakib Al Hasan</td>\n",
       "      <td>3</td>\n",
       "      <td>1</td>\n",
       "      <td>0</td>\n",
       "      <td>9</td>\n",
       "      <td>9</td>\n",
       "      <td>9</td>\n",
       "      <td>10</td>\n",
       "      <td>90.00</td>\n",
       "      <td>0</td>\n",
       "      <td>0</td>\n",
       "      <td>0</td>\n",
       "      <td>0</td>\n",
       "    </tr>\n",
       "    <tr>\n",
       "      <td>98</td>\n",
       "      <td>Pawan Negi</td>\n",
       "      <td>7</td>\n",
       "      <td>4</td>\n",
       "      <td>0</td>\n",
       "      <td>9</td>\n",
       "      <td>5</td>\n",
       "      <td>2.25</td>\n",
       "      <td>12</td>\n",
       "      <td>75.00</td>\n",
       "      <td>0</td>\n",
       "      <td>0</td>\n",
       "      <td>1</td>\n",
       "      <td>0</td>\n",
       "    </tr>\n",
       "    <tr>\n",
       "      <td>99</td>\n",
       "      <td>Tim Southee</td>\n",
       "      <td>3</td>\n",
       "      <td>1</td>\n",
       "      <td>1</td>\n",
       "      <td>9</td>\n",
       "      <td>9*</td>\n",
       "      <td>-</td>\n",
       "      <td>9</td>\n",
       "      <td>100.00</td>\n",
       "      <td>0</td>\n",
       "      <td>0</td>\n",
       "      <td>0</td>\n",
       "      <td>0</td>\n",
       "    </tr>\n",
       "  </tbody>\n",
       "</table>\n",
       "<p>100 rows × 13 columns</p>\n",
       "</div>"
      ],
      "text/plain": [
       "               PLAYER  Mat  Inns  NO  2019_Runs    HS    Avg   BF      SR  \\\n",
       "0        David Warner   12    12   2        692  100*   69.2  481  143.86   \n",
       "1            KL Rahul   14    14   3        593  100*   53.9  438  135.38   \n",
       "2     Quinton de Kock   16    16   1        529    81  35.26  398  132.91   \n",
       "3      Shikhar Dhawan   16    16   1        521   97*  34.73  384  135.67   \n",
       "4       Andre Russell   14    13   4        510   80*  56.66  249  204.81   \n",
       "..                ...  ...   ...  ..        ...   ...    ...  ...     ...   \n",
       "95  Carlos Brathwaite    2     2   0         11     6    5.5   10  110.00   \n",
       "96      Ishant Sharma   13     3   3         10   10*      -    3  333.33   \n",
       "97    Shakib Al Hasan    3     1   0          9     9      9   10   90.00   \n",
       "98         Pawan Negi    7     4   0          9     5   2.25   12   75.00   \n",
       "99        Tim Southee    3     1   1          9    9*      -    9  100.00   \n",
       "\n",
       "    100  50  4s  6s  \n",
       "0     1   8  57  21  \n",
       "1     1   6  49  25  \n",
       "2     0   4  45  25  \n",
       "3     0   5  64  11  \n",
       "4     0   4  31  52  \n",
       "..  ...  ..  ..  ..  \n",
       "95    0   0   1   0  \n",
       "96    0   0   1   1  \n",
       "97    0   0   0   0  \n",
       "98    0   0   1   0  \n",
       "99    0   0   0   0  \n",
       "\n",
       "[100 rows x 13 columns]"
      ]
     },
     "execution_count": 594,
     "metadata": {},
     "output_type": "execute_result"
    }
   ],
   "source": [
    "dftest = pd.read_excel(r'C:\\Users\\Pulkit-PC\\Desktop\\FliprHackathon\\testdata.xlsx')  #importing the csv file from the repective directory\n",
    "dftest"
   ]
  },
  {
   "cell_type": "code",
   "execution_count": 595,
   "metadata": {},
   "outputs": [
    {
     "data": {
      "text/plain": [
       "PLAYER        object\n",
       "Mat            int64\n",
       "Inns           int64\n",
       "NO             int64\n",
       "2019_Runs      int64\n",
       "HS            object\n",
       "Avg           object\n",
       "BF             int64\n",
       "SR           float64\n",
       "100            int64\n",
       "50             int64\n",
       "4s             int64\n",
       "6s             int64\n",
       "dtype: object"
      ]
     },
     "execution_count": 595,
     "metadata": {},
     "output_type": "execute_result"
    }
   ],
   "source": [
    "temp2=dftest.copy()\n",
    "temp2.dtypes"
   ]
  },
  {
   "cell_type": "code",
   "execution_count": 596,
   "metadata": {},
   "outputs": [
    {
     "data": {
      "text/markdown": [
       "**Cleaning the data set and setting appropriate data types**"
      ],
      "text/plain": [
       "<IPython.core.display.Markdown object>"
      ]
     },
     "metadata": {},
     "output_type": "display_data"
    }
   ],
   "source": [
    "from IPython.display import Markdown, display\n",
    "def printmd(string):\n",
    "    display(Markdown(string))\n",
    "printmd('**Cleaning the data set and setting appropriate data types**')"
   ]
  },
  {
   "cell_type": "code",
   "execution_count": 597,
   "metadata": {},
   "outputs": [],
   "source": [
    "temp2['PLAYER']=temp2['PLAYER'].astype('str')\n",
    "temp2['HS']=temp2['HS'].astype('str')\n",
    "temp2['HS'] = temp2['HS'].str.replace('*', '')\n",
    "temp2['HS']=temp2['HS'].astype('int')\n",
    "temp2['Avg']=temp2['Avg'].astype('str')\n",
    "temp2['Avg'] = temp2['Avg'].str.replace('-', '-1')\n",
    "temp2['Avg']=temp2['Avg'].astype('float')\n",
    "index=0\n",
    "for i in temp2['Avg']:\n",
    "    #print(i)\n",
    "    if i==-1.0:\n",
    "        t=temp2.loc[[index]]\n",
    "        t['Avg']=float(t['HS'])\n",
    "        #print(t)\n",
    "    index=index+1"
   ]
  },
  {
   "cell_type": "code",
   "execution_count": 598,
   "metadata": {},
   "outputs": [
    {
     "data": {
      "text/plain": [
       "PLAYER        object\n",
       "Mat            int64\n",
       "Inns           int64\n",
       "NO             int64\n",
       "2019_Runs      int64\n",
       "HS             int32\n",
       "Avg          float64\n",
       "BF             int64\n",
       "SR           float64\n",
       "100            int64\n",
       "50             int64\n",
       "4s             int64\n",
       "6s             int64\n",
       "dtype: object"
      ]
     },
     "execution_count": 598,
     "metadata": {},
     "output_type": "execute_result"
    }
   ],
   "source": [
    "temp2.dtypes"
   ]
  },
  {
   "cell_type": "code",
   "execution_count": 599,
   "metadata": {},
   "outputs": [
    {
     "data": {
      "text/markdown": [
       "**Testing our model on test data set and predicting values for 2020**"
      ],
      "text/plain": [
       "<IPython.core.display.Markdown object>"
      ]
     },
     "metadata": {},
     "output_type": "display_data"
    }
   ],
   "source": [
    "from IPython.display import Markdown, display\n",
    "def printmd(string):\n",
    "    display(Markdown(string))\n",
    "printmd('**Testing our model on test data set and predicting values for 2020**')"
   ]
  },
  {
   "cell_type": "code",
   "execution_count": 600,
   "metadata": {},
   "outputs": [],
   "source": [
    "predicted_price={}\n",
    "\n",
    "for index, row in temp2.iterrows():\n",
    "    name = row['PLAYER']\n",
    "    Inns = row['Inns']\n",
    "    s6 = row['6s']\n",
    "    HS = row['HS']\n",
    "    Avg = row['Avg']\n",
    "    BF=row['BF']\n",
    "    s4=row['4s']  \n",
    "    Runs=row['2019_Runs']\n",
    "    p=regr.predict([[Runs,BF,Avg,Inns,s6,s4,HS]])\n",
    "    #print (name + ' Predicted Runs in 2020 :', math.floor(abs(p[0])) , ' ,2019 Runs : ',row['2019_Runs'])\n",
    "    predicted_price[index]=math.floor(abs(p[0]))     "
   ]
  },
  {
   "cell_type": "code",
   "execution_count": 601,
   "metadata": {},
   "outputs": [
    {
     "data": {
      "text/markdown": [
       "**Writing into a csv file**"
      ],
      "text/plain": [
       "<IPython.core.display.Markdown object>"
      ]
     },
     "metadata": {},
     "output_type": "display_data"
    }
   ],
   "source": [
    "from IPython.display import Markdown, display\n",
    "def printmd(string):\n",
    "    display(Markdown(string))\n",
    "printmd('**Writing into a csv file**')"
   ]
  },
  {
   "cell_type": "code",
   "execution_count": 602,
   "metadata": {},
   "outputs": [],
   "source": [
    "import csv\n",
    "\n",
    "with open('solution.csv', mode='w+',newline='') as solution:\n",
    "    sol = csv.writer(solution, delimiter=',', quotechar='\"', quoting=csv.QUOTE_MINIMAL)\n",
    "    sol.writerow(['Player_Name','Predicted_Runs_in_2020'])\n",
    "    i=0\n",
    "    for index, row in temp2.iterrows():\n",
    "        runs = str(predicted_price[i])\n",
    "        name=row['PLAYER']\n",
    "        sol.writerow([name,runs])\n",
    "        i=i+1\n",
    "   \n",
    "        "
   ]
  }
 ],
 "metadata": {
  "kernelspec": {
   "display_name": "Python 3",
   "language": "python",
   "name": "python3"
  },
  "language_info": {
   "codemirror_mode": {
    "name": "ipython",
    "version": 3
   },
   "file_extension": ".py",
   "mimetype": "text/x-python",
   "name": "python",
   "nbconvert_exporter": "python",
   "pygments_lexer": "ipython3",
   "version": "3.7.4"
  }
 },
 "nbformat": 4,
 "nbformat_minor": 2
}
